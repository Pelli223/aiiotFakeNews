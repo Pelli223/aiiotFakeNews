{
 "cells": [
  {
   "cell_type": "markdown",
   "id": "c6206b07",
   "metadata": {},
   "source": [
    "# Uso de Transformers para clasificación de texto.\n",
    "\n",
    "Vamos a hacer uso de transformers ya que estos funcionan especialmente bien para el tratamiento del texto y para modelos de clasificación de este. Estos se encargan de Tokenizar el texto conservando informaciones relevantes como el contexto o el orden de las palabras. Cosas que con otras técnicas como TF-IDF no es posible."
   ]
  },
  {
   "cell_type": "code",
   "execution_count": 9,
   "id": "f00972cf",
   "metadata": {},
   "outputs": [],
   "source": [
    "import pandas as pd\n",
    "import os\n",
    "from torch.utils.data import DataLoader,Dataset\n",
    "from torch.optim import AdamW\n",
    "from transformers import BertTokenizer, BertForSequenceClassification, AutoTokenizer, BertModel,Trainer, TrainingArguments\n",
    "from sklearn.model_selection import train_test_split\n",
    "from sklearn.metrics import confusion_matrix, classification_report\n",
    "import torch\n",
    "import torch.nn as nn\n",
    "import seaborn as sns\n",
    "import numpy as np\n",
    "import matplotlib.pyplot as plt\n",
    "from sklearn.metrics import accuracy_score\n",
    "import numpy as np"
   ]
  },
  {
   "cell_type": "code",
   "execution_count": 13,
   "id": "e8ca56ef",
   "metadata": {},
   "outputs": [
    {
     "data": {
      "text/html": [
       "<div>\n",
       "<style scoped>\n",
       "    .dataframe tbody tr th:only-of-type {\n",
       "        vertical-align: middle;\n",
       "    }\n",
       "\n",
       "    .dataframe tbody tr th {\n",
       "        vertical-align: top;\n",
       "    }\n",
       "\n",
       "    .dataframe thead th {\n",
       "        text-align: right;\n",
       "    }\n",
       "</style>\n",
       "<table border=\"1\" class=\"dataframe\">\n",
       "  <thead>\n",
       "    <tr style=\"text-align: right;\">\n",
       "      <th></th>\n",
       "      <th>label</th>\n",
       "      <th>combined</th>\n",
       "    </tr>\n",
       "  </thead>\n",
       "  <tbody>\n",
       "    <tr>\n",
       "      <th>0</th>\n",
       "      <td>1</td>\n",
       "      <td>Foreign Democrat final.[SEP]more tax developme...</td>\n",
       "    </tr>\n",
       "    <tr>\n",
       "      <th>1</th>\n",
       "      <td>0</td>\n",
       "      <td>To offer down resource great point.[SEP]probab...</td>\n",
       "    </tr>\n",
       "    <tr>\n",
       "      <th>2</th>\n",
       "      <td>0</td>\n",
       "      <td>Himself church myself carry.[SEP]them identify...</td>\n",
       "    </tr>\n",
       "    <tr>\n",
       "      <th>3</th>\n",
       "      <td>0</td>\n",
       "      <td>You unit its should.[SEP]phone which item yard...</td>\n",
       "    </tr>\n",
       "    <tr>\n",
       "      <th>4</th>\n",
       "      <td>0</td>\n",
       "      <td>Billion believe employee summer how.[SEP]wonde...</td>\n",
       "    </tr>\n",
       "  </tbody>\n",
       "</table>\n",
       "</div>"
      ],
      "text/plain": [
       "   label                                           combined\n",
       "0      1  Foreign Democrat final.[SEP]more tax developme...\n",
       "1      0  To offer down resource great point.[SEP]probab...\n",
       "2      0  Himself church myself carry.[SEP]them identify...\n",
       "3      0  You unit its should.[SEP]phone which item yard...\n",
       "4      0  Billion believe employee summer how.[SEP]wonde..."
      ]
     },
     "metadata": {},
     "output_type": "display_data"
    }
   ],
   "source": [
    "df = pd.read_csv(\"fake_news_dataset.csv\")\n",
    "\n",
    "df_reducido = df[[\"title\", \"text\", \"label\"]].copy()\n",
    "df_reducido[\"combined\"] = df_reducido[\"title\"] + \"[SEP]\" + df_reducido[\"text\"]\n",
    "df_reducido['label'] = df_reducido['label'].map({'fake': 0, 'real': 1})\n",
    "df_reducido.drop(columns=[\"title\", \"text\"], inplace=True)\n",
    "\n",
    "display(df_reducido.head())"
   ]
  },
  {
   "cell_type": "code",
   "execution_count": 14,
   "id": "ae51417a",
   "metadata": {},
   "outputs": [],
   "source": [
    "# Evaluación\n",
    "def evaluar_prediccion(y_test, y_pred):\n",
    "    cm = confusion_matrix(y_test, y_pred)\n",
    "    print(\"Reporte de clasificación:\")\n",
    "    print(classification_report(y_test, y_pred))\n",
    "\n",
    "    labels = [\"Fake\", \"Real\"]\n",
    "\n",
    "    # Dibujar\n",
    "    plt.figure(figsize=(6, 5))\n",
    "    sns.heatmap(cm, annot=True, fmt=\"d\", cmap=\"Blues\", xticklabels=labels, yticklabels=labels)\n",
    "    plt.xlabel(\"Predicción\")\n",
    "    plt.ylabel(\"Valor real\")\n",
    "    plt.title(\"Matriz de Confusión\")\n",
    "    plt.tight_layout()\n",
    "    plt.show()"
   ]
  },
  {
   "cell_type": "markdown",
   "id": "2bcf030e",
   "metadata": {},
   "source": [
    "Ahora una vez preparado nuestro dataframe para poder usar un BERT base vamos a preparar los datos para el entrenamiento."
   ]
  },
  {
   "cell_type": "code",
   "execution_count": 15,
   "id": "9d2354ff",
   "metadata": {},
   "outputs": [],
   "source": [
    "# Dividir en entrenamiento y validación\n",
    "X_train, X_test, y_train, y_test = train_test_split(\n",
    "    df_reducido[\"combined\"].tolist(), df_reducido[\"label\"].tolist(), test_size=0.2\n",
    ")\n",
    "\n",
    "tokenizer = BertTokenizer.from_pretrained(\"bert-base-uncased\", do_lower_case=True)\n",
    "train_encodings = tokenizer(X_train, truncation=True, padding=True, max_length=5000)\n",
    "test_encodings = tokenizer(X_test, truncation=True, padding=True, max_length=5000)\n",
    "\n",
    "class NewsDataset(torch.utils.data.Dataset):\n",
    "    def __init__(self, encodings, labels):\n",
    "        self.encodings = encodings\n",
    "        self.labels = labels\n",
    "\n",
    "    def __getitem__(self, idx):\n",
    "        item = {key: torch.tensor(val[idx]) for key, val in self.encodings.items()}\n",
    "        item[\"labels\"] = torch.tensor(self.labels[idx])\n",
    "        return item\n",
    "\n",
    "    def __len__(self):\n",
    "        return len(self.labels)\n",
    "    \n",
    "train_dataset = NewsDataset(train_encodings, y_train)\n",
    "test_dataset = NewsDataset(test_encodings, y_test)"
   ]
  },
  {
   "cell_type": "markdown",
   "id": "d8990905",
   "metadata": {},
   "source": [
    "Una vez listo todos nuestros datos, vamos a entrenar el modelo. Esto lo haremos al principio solo con el texto para ver como se comporta un modelos de transformer como BERt solo con los datos de texto de los que disponemos."
   ]
  },
  {
   "cell_type": "code",
   "execution_count": 16,
   "id": "9ecf5034",
   "metadata": {},
   "outputs": [
    {
     "name": "stderr",
     "output_type": "stream",
     "text": [
      "Some weights of BertForSequenceClassification were not initialized from the model checkpoint at bert-base-uncased and are newly initialized: ['classifier.bias', 'classifier.weight']\n",
      "You should probably TRAIN this model on a down-stream task to be able to use it for predictions and inference.\n"
     ]
    },
    {
     "name": "stdout",
     "output_type": "stream",
     "text": [
      "\n",
      "Epoch 1/3\n",
      "  Batch 10 | Running Avg Loss: 0.6909 | Running Accuracy: 0.5437\n",
      "  Batch 20 | Running Avg Loss: 0.6923 | Running Accuracy: 0.5312\n",
      "  Batch 30 | Running Avg Loss: 0.6933 | Running Accuracy: 0.5250\n",
      "  Batch 40 | Running Avg Loss: 0.6960 | Running Accuracy: 0.5094\n",
      "  Batch 50 | Running Avg Loss: 0.6959 | Running Accuracy: 0.5088\n",
      "  Batch 60 | Running Avg Loss: 0.6937 | Running Accuracy: 0.5125\n",
      "  Batch 70 | Running Avg Loss: 0.6949 | Running Accuracy: 0.5089\n",
      "  Batch 80 | Running Avg Loss: 0.6953 | Running Accuracy: 0.5117\n",
      "  Batch 90 | Running Avg Loss: 0.6948 | Running Accuracy: 0.5125\n",
      "  Batch 100 | Running Avg Loss: 0.6953 | Running Accuracy: 0.5094\n",
      "  Batch 110 | Running Avg Loss: 0.6953 | Running Accuracy: 0.5074\n",
      "\n",
      "Early stopping at batch 110 - No improvement for 10 checks\n",
      "\n",
      "Epoch 1 Summary | Loss: 0.0765 | Accuracy: 0.5074\n",
      "\n",
      "\n",
      "Early stopping triggered!\n",
      "\n",
      "Loaded best model weights for evaluation.\n"
     ]
    }
   ],
   "source": [
    "# Configuración de Early Stopping\n",
    "early_stop_patience = 10  # Número de épocas/batches sin mejora antes de parar\n",
    "min_delta = 0.001  # Cambio mínimo para considerar mejora\n",
    "best_loss = float('inf')\n",
    "no_improve_count = 0\n",
    "stop_training = False\n",
    "\n",
    "device = torch.device('cuda') if torch.cuda.is_available() else torch.device('cpu')\n",
    "\n",
    "model = BertForSequenceClassification.from_pretrained(\"bert-base-uncased\", num_labels=2)\n",
    "model.to(device)\n",
    "\n",
    "train_loader = DataLoader(train_dataset, batch_size=16, shuffle=True)\n",
    "optim = AdamW(model.parameters(), lr=1e-8)\n",
    "\n",
    "# Historial para tracking\n",
    "history = {\n",
    "    'epoch_loss': [],\n",
    "    'epoch_accuracy': [],\n",
    "    'batch_loss': [],\n",
    "    'batch_accuracy': []\n",
    "}\n",
    "\n",
    "for epoch in range(3):\n",
    "    if stop_training:\n",
    "        print(\"\\nEarly stopping triggered!\")\n",
    "        break\n",
    "        \n",
    "    print(f\"\\nEpoch {epoch + 1}/3\")\n",
    "    epoch_loss = 0\n",
    "    all_preds = []\n",
    "    all_labels = []\n",
    "    \n",
    "    for batch_idx, batch in enumerate(train_loader):\n",
    "        if stop_training:\n",
    "            break\n",
    "            \n",
    "        model.train()\n",
    "        optim.zero_grad()\n",
    "\n",
    "        input_ids = batch['input_ids'].to(device)\n",
    "        attention_mask = batch['attention_mask'].to(device)\n",
    "        labels = batch['labels'].to(device)\n",
    "\n",
    "        outputs = model(input_ids, attention_mask=attention_mask, labels=labels)\n",
    "        loss = outputs.loss\n",
    "        logits = outputs.logits\n",
    "\n",
    "        loss.backward()\n",
    "        optim.step()\n",
    "\n",
    "        # Acumular métricas\n",
    "        epoch_loss += loss.item()\n",
    "        preds = torch.argmax(logits, dim=1).cpu().numpy()\n",
    "        all_preds.extend(preds)\n",
    "        all_labels.extend(labels.cpu().numpy())\n",
    "        \n",
    "        # Guardar métricas del batch\n",
    "        batch_accuracy = accuracy_score(all_labels, all_preds)\n",
    "        history['batch_loss'].append(loss.item())\n",
    "        history['batch_accuracy'].append(batch_accuracy)\n",
    "        \n",
    "        # Early Stopping a nivel de batch (opcional)\n",
    "        if (batch_idx + 1) % 10 == 0:\n",
    "            avg_loss = epoch_loss / (batch_idx + 1)\n",
    "            print(f\"  Batch {batch_idx + 1} | Running Avg Loss: {avg_loss:.4f} | Running Accuracy: {batch_accuracy:.4f}\")\n",
    "            \n",
    "            # Verificar mejora (puedes usar loss o accuracy)\n",
    "            current_loss = avg_loss\n",
    "            if current_loss < (best_loss - min_delta):\n",
    "                best_loss = current_loss\n",
    "                no_improve_count = 0\n",
    "            else:\n",
    "                no_improve_count += 1\n",
    "                if no_improve_count >= early_stop_patience:\n",
    "                    print(f\"\\nEarly stopping at batch {batch_idx + 1} - No improvement for {early_stop_patience} checks\")\n",
    "                    stop_training = True\n",
    "                    break\n",
    "\n",
    "    # Métricas finales de la época\n",
    "    final_loss = epoch_loss / len(train_loader)\n",
    "    final_accuracy = accuracy_score(all_labels, all_preds)\n",
    "    history['epoch_loss'].append(final_loss)\n",
    "    history['epoch_accuracy'].append(final_accuracy)\n",
    "    \n",
    "    print(f\"\\nEpoch {epoch + 1} Summary | Loss: {final_loss:.4f} | Accuracy: {final_accuracy:.4f}\\n\")\n",
    "    \n",
    "    # Early Stopping a nivel de época\n",
    "    if final_loss < (best_loss - min_delta):\n",
    "        best_loss = final_loss\n",
    "        no_improve_count = 0\n",
    "        # Guardar el mejor modelo\n",
    "        torch.save(model.state_dict(), 'best_model.pt')\n",
    "    else:\n",
    "        no_improve_count += 1\n",
    "        if no_improve_count >= early_stop_patience:\n",
    "            print(f\"\\nEarly stopping at epoch {epoch + 1} - No improvement for {early_stop_patience} epochs\")\n",
    "            stop_training = True\n",
    "\n",
    "model.eval()\n",
    "\n",
    "# Cargar el mejor modelo antes de evaluar\n",
    "if os.path.exists('best_model.pt'):\n",
    "    model.load_state_dict(torch.load('best_model.pt'))\n",
    "    print(\"\\nLoaded best model weights for evaluation.\")"
   ]
  },
  {
   "cell_type": "code",
   "execution_count": 11,
   "id": "59e5cbe3",
   "metadata": {},
   "outputs": [
    {
     "name": "stdout",
     "output_type": "stream",
     "text": [
      "              precision    recall  f1-score   support\n",
      "\n",
      "           0       0.50      1.00      0.67      2012\n",
      "           1       0.00      0.00      0.00      1988\n",
      "\n",
      "    accuracy                           0.50      4000\n",
      "   macro avg       0.25      0.50      0.33      4000\n",
      "weighted avg       0.25      0.50      0.34      4000\n",
      "\n"
     ]
    },
    {
     "name": "stderr",
     "output_type": "stream",
     "text": [
      "/home/pelli/Master/aiiotFakeNews/.venv/lib/python3.11/site-packages/sklearn/metrics/_classification.py:1565: UndefinedMetricWarning: Precision is ill-defined and being set to 0.0 in labels with no predicted samples. Use `zero_division` parameter to control this behavior.\n",
      "  _warn_prf(average, modifier, f\"{metric.capitalize()} is\", len(result))\n",
      "/home/pelli/Master/aiiotFakeNews/.venv/lib/python3.11/site-packages/sklearn/metrics/_classification.py:1565: UndefinedMetricWarning: Precision is ill-defined and being set to 0.0 in labels with no predicted samples. Use `zero_division` parameter to control this behavior.\n",
      "  _warn_prf(average, modifier, f\"{metric.capitalize()} is\", len(result))\n",
      "/home/pelli/Master/aiiotFakeNews/.venv/lib/python3.11/site-packages/sklearn/metrics/_classification.py:1565: UndefinedMetricWarning: Precision is ill-defined and being set to 0.0 in labels with no predicted samples. Use `zero_division` parameter to control this behavior.\n",
      "  _warn_prf(average, modifier, f\"{metric.capitalize()} is\", len(result))\n"
     ]
    },
    {
     "data": {
      "image/png": "[encoded data removed]",
      "text/plain": [
       "<Figure size 600x500 with 2 Axes>"
      ]
     },
     "metadata": {},
     "output_type": "display_data"
    }
   ],
   "source": [
    "test_loader = DataLoader(test_dataset, batch_size=16)\n",
    "\n",
    "all_preds = []\n",
    "all_labels = []\n",
    "\n",
    "with torch.no_grad():\n",
    "    for batch in test_loader:\n",
    "        input_ids = batch['input_ids'].to(device)\n",
    "        attention_mask = batch['attention_mask'].to(device)\n",
    "        labels = batch['labels'].to(device)\n",
    "\n",
    "        outputs = model(input_ids, attention_mask=attention_mask)\n",
    "        logits = outputs.logits\n",
    "        preds = torch.argmax(logits, dim=1)\n",
    "\n",
    "        all_preds.extend(preds.cpu().numpy())\n",
    "        all_labels.extend(labels.cpu().numpy())\n",
    "\n",
    "# Matriz de confusión\n",
    "cm = confusion_matrix(all_labels, all_preds)\n",
    "print(classification_report(all_labels, all_preds))\n",
    "\n",
    "# Etiquetas opcionales si tus clases no son solo 0 y 1\n",
    "labels = [\"Fake\", \"Real\"]  # reemplázalo si usas otras clases\n",
    "\n",
    "# Dibujar\n",
    "plt.figure(figsize=(6, 5))\n",
    "sns.heatmap(cm, annot=True, fmt=\"d\", cmap=\"Blues\", xticklabels=labels, yticklabels=labels)\n",
    "plt.xlabel(\"Predicción\")\n",
    "plt.ylabel(\"Valor real\")\n",
    "plt.title(\"Matriz de Confusión\")\n",
    "plt.tight_layout()\n",
    "plt.show()"
   ]
  },
  {
   "cell_type": "code",
   "execution_count": null,
   "id": "eeb9e79e",
   "metadata": {},
   "outputs": [],
   "source": [
    "df_encoded = pd.read_csv(\"datos_limpios_estandarizados.csv\")\n",
    "df_encoded[['title', 'text']] = df_encoded[['title', 'text']].fillna(\"\")\n",
    "\n",
    "text_data = (df_encoded['title'] + \" \" + df_encoded['text']).tolist()\n",
    "numeric_features = df_encoded.drop(columns=['title', 'text', 'label']).astype('float32').values\n",
    "labels = df_encoded['label'].values\n",
    "\n",
    "tokenizer = AutoTokenizer.from_pretrained('bert-base-uncased')\n",
    "\n",
    "encodings = tokenizer(text_data, truncation=True, padding=True, max_length=512, return_tensors='pt')\n",
    "\n",
    "X_text_train, X_text_test, X_num_train, X_num_test, y_train, y_test = train_test_split(\n",
    "    text_data, numeric_features, labels,\n",
    "    test_size=0.2,         # 20% para prueba\n",
    "    random_state=42,       # Para reproducibilidad\n",
    "    stratify=labels        # Mantiene proporción de clases\n",
    ")\n",
    "\n",
    "encodings_train = tokenizer(X_text_train, truncation=True, padding=True, max_length=5000, return_tensors='pt')\n",
    "encodings_test = tokenizer(X_text_test, truncation=True, padding=True, max_length=5000, return_tensors='pt')"
   ]
  },
  {
   "cell_type": "code",
   "execution_count": 4,
   "id": "1d62f962",
   "metadata": {},
   "outputs": [],
   "source": [
    "class NewsDataset(Dataset):\n",
    "    def __init__(self, encodings, numeric_feats, labels):\n",
    "        self.encodings = encodings\n",
    "        self.numeric_feats = torch.tensor(numeric_feats, dtype=torch.float32)\n",
    "        self.labels = torch.tensor(labels, dtype=torch.long)\n",
    "\n",
    "    def __getitem__(self, idx):\n",
    "        item = {key: val[idx] for key, val in self.encodings.items()}\n",
    "        item['numeric_feats'] = self.numeric_feats[idx]\n",
    "        item['labels'] = self.labels[idx]\n",
    "        return item\n",
    "\n",
    "    def __len__(self):\n",
    "        return len(self.labels)\n",
    "\n",
    "train_dataset = NewsDataset(encodings_train, X_num_train, y_train)\n",
    "test_dataset = NewsDataset(encodings_test, X_num_test, y_test)"
   ]
  },
  {
   "cell_type": "code",
   "execution_count": 5,
   "id": "cf48e8f6",
   "metadata": {},
   "outputs": [],
   "source": [
    "class BertWithNumericFeatures(nn.Module):\n",
    "    def __init__(self, text_model_name, num_numeric_feats):\n",
    "        super().__init__()\n",
    "        self.bert = BertModel.from_pretrained(text_model_name)\n",
    "        self.dropout = nn.Dropout(0.3)\n",
    "        self.classifier = nn.Sequential(\n",
    "            nn.Linear(self.bert.config.hidden_size + num_numeric_feats, 128),\n",
    "            nn.ReLU(),\n",
    "            nn.Linear(128, 2)  # Para clasificación binaria\n",
    "        )\n",
    "\n",
    "    def forward(self, input_ids, attention_mask, numeric_feats, labels=None):\n",
    "        bert_outputs = self.bert(input_ids=input_ids, attention_mask=attention_mask)\n",
    "        cls_output = bert_outputs.pooler_output  # [batch, hidden_size]\n",
    "\n",
    "        combined = torch.cat((cls_output, numeric_feats), dim=1)\n",
    "        logits = self.classifier(self.dropout(combined))\n",
    "\n",
    "        if labels is not None:\n",
    "            loss_fn = nn.CrossEntropyLoss()\n",
    "            loss = loss_fn(logits, labels)\n",
    "            return {\"loss\": loss, \"logits\": logits}\n",
    "        else:\n",
    "            return {\"logits\": logits}"
   ]
  },
  {
   "cell_type": "code",
   "execution_count": 6,
   "id": "3eaf6309",
   "metadata": {},
   "outputs": [
    {
     "data": {
      "text/html": [
       "\n",
       "    <div>\n",
       "      \n",
       "      <progress value='2709' max='2709' style='width:300px; height:20px; vertical-align: middle;'></progress>\n",
       "      [2709/2709 31:22, Epoch 3/3]\n",
       "    </div>\n",
       "    <table border=\"1\" class=\"dataframe\">\n",
       "  <thead>\n",
       " <tr style=\"text-align: left;\">\n",
       "      <th>Step</th>\n",
       "      <th>Training Loss</th>\n",
       "    </tr>\n",
       "  </thead>\n",
       "  <tbody>\n",
       "    <tr>\n",
       "      <td>500</td>\n",
       "      <td>0.696000</td>\n",
       "    </tr>\n",
       "    <tr>\n",
       "      <td>1000</td>\n",
       "      <td>0.694300</td>\n",
       "    </tr>\n",
       "    <tr>\n",
       "      <td>1500</td>\n",
       "      <td>0.693400</td>\n",
       "    </tr>\n",
       "    <tr>\n",
       "      <td>2000</td>\n",
       "      <td>0.693300</td>\n",
       "    </tr>\n",
       "    <tr>\n",
       "      <td>2500</td>\n",
       "      <td>0.694000</td>\n",
       "    </tr>\n",
       "  </tbody>\n",
       "</table><p>"
      ],
      "text/plain": [
       "<IPython.core.display.HTML object>"
      ]
     },
     "metadata": {},
     "output_type": "display_data"
    },
    {
     "data": {
      "text/plain": [
       "TrainOutput(global_step=2709, training_loss=0.6940964944866936, metrics={'train_runtime': 1884.1278, 'train_samples_per_second': 22.986, 'train_steps_per_second': 1.438, 'total_flos': 0.0, 'train_loss': 0.6940964944866936, 'epoch': 3.0})"
      ]
     },
     "execution_count": 6,
     "metadata": {},
     "output_type": "execute_result"
    }
   ],
   "source": [
    "training_args = TrainingArguments(\n",
    "    output_dir='./results',\n",
    "    per_device_train_batch_size=16,\n",
    "    per_device_eval_batch_size=16,\n",
    "    num_train_epochs=3,\n",
    "    do_eval=True, \n",
    "    logging_dir='./logs',\n",
    ")\n",
    "\n",
    "def compute_metrics(p):\n",
    "    from sklearn.metrics import accuracy_score, precision_recall_fscore_support\n",
    "    preds = p.predictions.argmax(-1)\n",
    "    labels = p.label_ids\n",
    "    precision, recall, f1, _ = precision_recall_fscore_support(labels, preds, average='binary')\n",
    "    acc = accuracy_score(labels, preds)\n",
    "    return {\"accuracy\": acc, \"f1\": f1, \"precision\": precision, \"recall\": recall}\n",
    "\n",
    "trainer = Trainer(\n",
    "    model=BertWithNumericFeatures('bert-base-uncased', numeric_features.shape[1]),\n",
    "    args=training_args,\n",
    "    train_dataset=train_dataset,\n",
    "    eval_dataset=test_dataset,  # deberías separar train/test idealmente\n",
    "    compute_metrics=compute_metrics\n",
    ")\n",
    "\n",
    "trainer.train()"
   ]
  },
  {
   "cell_type": "code",
   "execution_count": 8,
   "id": "ee7b7ed5",
   "metadata": {},
   "outputs": [
    {
     "data": {
      "text/html": [],
      "text/plain": [
       "<IPython.core.display.HTML object>"
      ]
     },
     "metadata": {},
     "output_type": "display_data"
    },
    {
     "name": "stdout",
     "output_type": "stream",
     "text": [
      "Reporte de clasificación:\n",
      "              precision    recall  f1-score   support\n",
      "\n",
      "           0       0.51      0.60      0.55      1819\n",
      "           1       0.50      0.40      0.45      1790\n",
      "\n",
      "    accuracy                           0.50      3609\n",
      "   macro avg       0.50      0.50      0.50      3609\n",
      "weighted avg       0.50      0.50      0.50      3609\n",
      "\n"
     ]
    },
    {
     "data": {
      "image/png": "[encoded data removed]",
      "text/plain": [
       "<Figure size 600x500 with 2 Axes>"
      ]
     },
     "metadata": {},
     "output_type": "display_data"
    }
   ],
   "source": [
    "predictions = trainer.predict(test_dataset)\n",
    "\n",
    "\n",
    "y_true = predictions.label_ids\n",
    "y_pred = np.argmax(predictions.predictions, axis=1)\n",
    "evaluar_prediccion(y_true, y_pred)"
   ]
  }
 ],
 "metadata": {
  "kernelspec": {
   "display_name": ".venv",
   "language": "python",
   "name": "python3"
  },
  "language_info": {
   "codemirror_mode": {
    "name": "ipython",
    "version": 3
   },
   "file_extension": ".py",
   "mimetype": "text/x-python",
   "name": "python",
   "nbconvert_exporter": "python",
   "pygments_lexer": "ipython3",
   "version": "3.11.12"
  }
 },
 "nbformat": 4,
 "nbformat_minor": 5
}
